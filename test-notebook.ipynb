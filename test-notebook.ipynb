{
 "cells": [
  {
   "cell_type": "code",
   "execution_count": null,
   "metadata": {},
   "outputs": [],
   "source": [
    "import numpy as np\n",
    "import torch\n",
    "import requests\n",
    "from PIL import Image\n",
    "np.__version__\n",
    "\n",
    "LOCAL = True"
   ]
  },
  {
   "cell_type": "code",
   "execution_count": null,
   "metadata": {},
   "outputs": [],
   "source": [
    "# %load http://localhost:50002/get-send-code"
   ]
  },
  {
   "cell_type": "code",
   "execution_count": null,
   "metadata": {},
   "outputs": [],
   "source": [
    "baseurl = \"localhost:50001\" if LOCAL else \"courdier.pythonanywhere.com\"\n",
    "\n",
    "exec(requests.get(f\"http://{baseurl}/get-send-code\").content)\n",
    "\n",
    "npt_config = {\n",
    "    'session_name': 'Deep learning tutorial',\n",
    "    'session_owner': 'ev',\n",
    "    'sender_name': input(\"Your name: \"),\n",
    "#     'sender_name': \"Tester\",\n",
    "    'log': True,\n",
    "} if LOCAL else {\n",
    "    'session_name': 'test',\n",
    "    'session_owner': 'evann',\n",
    "    'sender_name': \"Tester\", # input(\"Your name: \"),\n",
    "    'log': True,\n",
    "}"
   ]
  },
  {
   "cell_type": "code",
   "execution_count": null,
   "metadata": {},
   "outputs": [],
   "source": [
    "_npt_config[\"sender_uuid\"] = 92768222040"
   ]
  },
  {
   "cell_type": "code",
   "execution_count": null,
   "metadata": {
    "scrolled": false
   },
   "outputs": [],
   "source": [
    "# SEND ONE\n",
    "A = np.random.rand(6).reshape(2,3)\n",
    "\n",
    "print(A)\n",
    "send(A, 2)"
   ]
  },
  {
   "cell_type": "markdown",
   "metadata": {},
   "source": [
    "### Test: All types"
   ]
  },
  {
   "cell_type": "code",
   "execution_count": null,
   "metadata": {},
   "outputs": [],
   "source": [
    "A = np.random.randint(0, 10, size=9).reshape(3,3)\n",
    "send(A, 1)\n",
    "\n",
    "\n",
    "A = np.random.rand(24).reshape(2,3,4)\n",
    "send(A, 2)\n",
    "\n",
    "\n",
    "A = \"Une string\"\n",
    "send(A, 3)\n",
    "\n",
    "\n",
    "A = 42\n",
    "send(A, 4)\n",
    "\n",
    "\n",
    "A = [42, \"test\", [{\"a\":23}, \"coucou\"]]*4\n",
    "send(A, 5)\n",
    "\n",
    "\n",
    "import matplotlib.pyplot as plt\n",
    "plt.plot(np.arange(10), np.random.rand(10))\n",
    "plt.title(\"Test Plt\")\n",
    "send(plt, 6)\n",
    "\n",
    "\n",
    "A, ax = plt.subplots()\n",
    "ax.plot(np.arange(10), np.random.rand(10))\n",
    "ax.set_title(\"Test Fig\")\n",
    "send(A, 7)\n",
    "\n",
    "\n",
    "from urllib.request import urlopen\n",
    "A = Image.open(urlopen('https://lh3.googleusercontent.com/-aDHEOXOGeFo/AAAAAAAAAAI/AAAAAAAAAIY/nf_CRSBMWrs/photo.jpg?sz=150'))\n",
    "send(A, 8)\n",
    "\n",
    "\n",
    "def f(x):\n",
    "    x = 3*x\n",
    "    torch.nn.Sequential(\n",
    "        torch.nn.Linear(1,2)\n",
    "    )\n",
    "    return x\n",
    "send(f, 9)\n",
    "\n",
    "\n",
    "class MyClass(torch.nn.Module):\n",
    "    toto = 2\n",
    "    \n",
    "    def __init__(self):\n",
    "        super().__init__()\n",
    "        self.L = torch.nn.Linear(2,3)\n",
    "    \n",
    "    @classmethod\n",
    "    def test(self, x):\n",
    "        return self.L(x)\n",
    "    \n",
    "    def forward(self, x):\n",
    "        return self.L(x)\n",
    "send(MyClass, 10)\n",
    "\n",
    "\n",
    "A = torch.nn.Sequential(\n",
    "    torch.nn.Conv2d(3, 64, 3),\n",
    "    torch.nn.ReLU()\n",
    ")\n",
    "send(A, 11)"
   ]
  },
  {
   "cell_type": "markdown",
   "metadata": {},
   "source": [
    "### Test: Dashboard"
   ]
  },
  {
   "cell_type": "code",
   "execution_count": null,
   "metadata": {},
   "outputs": [],
   "source": [
    "for j in range(30):\n",
    "    _npt_config[\"sender_uuid\"] = j\n",
    "    npt_config['sender_name'] = \"Max dupont %d\" % j\n",
    "    send(A, 1)"
   ]
  },
  {
   "cell_type": "code",
   "execution_count": null,
   "metadata": {
    "scrolled": true
   },
   "outputs": [],
   "source": [
    "import numpy as np\n",
    "\n",
    "for i in range(12):\n",
    "    for j in range([5,3,4,1, 1, 1, 3, 2, 1, 1, 1, 2, 1, 3, 1][i]):\n",
    "        A = np.random.randint(0, 10, size=9).reshape(3,3)\n",
    "        _npt_config[\"sender_uuid\"] = hash(\"Max dupont %d %d\" % (i,j))\n",
    "        npt_config['sender_name'] = \"Max dupont %d\" % j\n",
    "        send(A, i)"
   ]
  },
  {
   "cell_type": "code",
   "execution_count": null,
   "metadata": {},
   "outputs": [],
   "source": [
    "# o = MyClass()\n",
    "# o = torch.nn.Sequential()\n",
    "# o = torch.nn.ReLU()\n",
    "# o = torch.nn.Conv1d(1,1,1)\n",
    "# o = torch.Tensor([2,3])\n",
    "# o = show_img\n",
    "# o = 6\n",
    "# o = plt\n",
    "o = np.array([2])\n",
    "a = type(o)\n",
    "str(a.__module__), str(a.__name__)"
   ]
  },
  {
   "cell_type": "markdown",
   "metadata": {},
   "source": [
    "### Compress data before send"
   ]
  },
  {
   "cell_type": "code",
   "execution_count": null,
   "metadata": {},
   "outputs": [],
   "source": [
    "import numpy as np\n",
    "import zlib, io\n",
    "\n",
    "def send(data, q_nb):\n",
    "    url = \"http://courdier.pythonanywhere.com/add-record\"\n",
    "    datatype = type(data).__name__\n",
    "    if datatype == \"ndarray\":\n",
    "        data = compress(data)\n",
    "    elif datatype == \"str\":\n",
    "        data = data.encode()\n",
    "    headers = {'session_id': session, 'sender_name': name, 'question_nb': q_nb, 'type': datatype, 'Content-Type': 'application/octet-stream'}\n",
    "    response = requests.post(url, data=data, headers=headers)\n",
    "    print(response.content)\n",
    "\n",
    "def compress(array):\n",
    "    bytestream = io.BytesIO()\n",
    "    np.save(bytestream, nparr)\n",
    "    return zlib.compress(bytestream.getvalue())\n",
    "\n",
    "\n",
    "def uncompress(bytestring):\n",
    "    return np.load(io.BytesIO(zlib.decompress(bytestring)))"
   ]
  },
  {
   "cell_type": "markdown",
   "metadata": {},
   "source": [
    "### Test:  NPT - Init student version"
   ]
  },
  {
   "cell_type": "code",
   "execution_count": null,
   "metadata": {},
   "outputs": [],
   "source": [
    "for i in range(10):\n",
    "    # TODO BLOCK\n",
    "    trololo\n",
    "    ## END TODO BLOCK\n",
    "    \n",
    "    while K < 2:\n",
    "        ### TODO BLOCK\n",
    "        trololo\n",
    "        ## END TODO BLOCK \n",
    "        ### HIDE BLOCK \n",
    "        trololo\n",
    "        ## END HIDE BLOCK \n",
    "        \n",
    "    send(2, 14)\n",
    "    A = np.trim(345)  # HIDE OPERAND    \n",
    "    A = np.trim(345)  # TODO OPERAND    \n",
    "    A.solution  # HIDE LINE\n",
    "    A.solution  # TODO LINE      "
   ]
  },
  {
   "cell_type": "code",
   "execution_count": null,
   "metadata": {},
   "outputs": [],
   "source": [
    " ## HIDE CELL\n",
    "send(2, 15)\n",
    "# This cell should be hidden"
   ]
  },
  {
   "cell_type": "code",
   "execution_count": null,
   "metadata": {},
   "outputs": [],
   "source": [
    "# COUCOU"
   ]
  },
  {
   "cell_type": "code",
   "execution_count": null,
   "metadata": {},
   "outputs": [],
   "source": []
  },
  {
   "cell_type": "markdown",
   "metadata": {},
   "source": [
    "### Test: Protection"
   ]
  },
  {
   "cell_type": "code",
   "execution_count": null,
   "metadata": {
    "scrolled": false
   },
   "outputs": [],
   "source": [
    "# Time + Number of different records per sender\n",
    "npt_config['sender_name'] = \"Max dupont\"\n",
    "for i in range(50):\n",
    "    send(i, i)"
   ]
  },
  {
   "cell_type": "code",
   "execution_count": null,
   "metadata": {
    "scrolled": true
   },
   "outputs": [],
   "source": [
    "# Number of different senders\n",
    "for i in range(60):\n",
    "    npt_config['sender_name'] = \"Max dupont %d\" % i\n",
    "    send(i, i)"
   ]
  },
  {
   "cell_type": "markdown",
   "metadata": {},
   "source": [
    "### Test get cell content from JS (not working in JL)"
   ]
  },
  {
   "cell_type": "code",
   "execution_count": null,
   "metadata": {},
   "outputs": [],
   "source": [
    "from IPython.display import Javascript, display\n",
    "import json"
   ]
  },
  {
   "cell_type": "code",
   "execution_count": null,
   "metadata": {},
   "outputs": [],
   "source": [
    "Javascript(r\"\"\"\n",
    "IPython.notebook.kernel.execute(\"cells_str = r'''\" + JSON.stringify(Jupyter.notebook.toJSON().cells).replaceAll(\"'''\", \"\\\\'\\\\'\\\\'\") + \"'''\");\n",
    "IPython.notebook.kernel.execute(\"cells_str = json.loads(cells_str.replace(r\\\"\\\\'\\\\'\\\\'\\\", \\\"'''\\\"))\");\n",
    "\"\"\")"
   ]
  },
  {
   "cell_type": "code",
   "execution_count": null,
   "metadata": {
    "scrolled": true
   },
   "outputs": [],
   "source": [
    " cells_str[0]"
   ]
  },
  {
   "cell_type": "markdown",
   "metadata": {},
   "source": [
    "### Include toasts and push"
   ]
  },
  {
   "cell_type": "code",
   "execution_count": null,
   "metadata": {},
   "outputs": [],
   "source": [
    "### Load vanillatoast and pusher\n",
    "from IPython.display import Javascript\n",
    "\n",
    "Javascript(requests.get(f\"http://{baseurl}/js/jpt-client.js\").content.decode())"
   ]
  },
  {
   "cell_type": "code",
   "execution_count": null,
   "metadata": {},
   "outputs": [],
   "source": [
    "### Send a Notification\n",
    "\n",
    "Javascript(\"\"\"\n",
    "VanillaToasts.create({\n",
    "  title: 'Message Title',\n",
    "  text: 'Coucou Evann',\n",
    "  type: \"warning\",\n",
    "  timeout: 5000\n",
    "});\n",
    "\"\"\")"
   ]
  },
  {
   "cell_type": "code",
   "execution_count": null,
   "metadata": {},
   "outputs": [],
   "source": [
    "### Listen with Pusher in js\n",
    "\n",
    "own_channel = str(hash(\"{session_name}_{session_owner}_{sender_name}\".format(**npt_config)))\n",
    "all_channel = str(hash(\"{session_name}_{session_owner}\".format(**npt_config)))\n",
    "\n",
    "Javascript(\"\"\"\n",
    "    Pusher.logToConsole = true;\n",
    "\n",
    "    var pusher = new Pusher('16ffc3f1f686b61fea62', {\n",
    "      cluster: 'eu'\n",
    "    });\n",
    "\n",
    "    var channel = pusher.subscribe('%s');\n",
    "    channel.bind('my-event', function(data) {\n",
    "      VanillaToasts.create({\n",
    "          title: 'Message from teacher',\n",
    "          text: data['message'],\n",
    "          type: \"warning\",\n",
    "          timeout: data[\"timeout\"]\n",
    "        });\n",
    "    });\n",
    "    \n",
    "    var channel2 = pusher.subscribe('%s');\n",
    "    channel2.bind('my-event', function(data) {\n",
    "      VanillaToasts.create({\n",
    "          title: 'Message to all',\n",
    "          text: data['message'],\n",
    "          type: \"warning\",\n",
    "          timeout: data[\"timeout\"]\n",
    "        });\n",
    "    });\n",
    "    window.c = channel;\n",
    "\"\"\" % (own_channel, all_channel))"
   ]
  },
  {
   "cell_type": "code",
   "execution_count": null,
   "metadata": {},
   "outputs": [],
   "source": [
    "import pusher\n",
    "\n",
    "pusher_client = pusher.Pusher(\n",
    "  app_id='',\n",
    "  key='',\n",
    "  secret='',\n",
    "  cluster='eu',\n",
    "  ssl=True\n",
    ")"
   ]
  },
  {
   "cell_type": "code",
   "execution_count": null,
   "metadata": {},
   "outputs": [],
   "source": [
    "pusher_client.trigger(own_channel, 'my-event', {'message': 'hello world', 'timeout': 2000});"
   ]
  },
  {
   "cell_type": "code",
   "execution_count": null,
   "metadata": {},
   "outputs": [],
   "source": [
    "pusher_client.trigger(all_channel, 'my-event', {'message': 'Session ending in 2 minutes - Check out <a target=\"_blank\" href=\"http://courdier.pythonanywhere.com\">npt</a>', 'timeout': 0});"
   ]
  },
  {
   "cell_type": "code",
   "execution_count": null,
   "metadata": {},
   "outputs": [],
   "source": []
  }
 ],
 "metadata": {
  "kernelspec": {
   "display_name": "Python 3",
   "language": "python",
   "name": "python3"
  },
  "language_info": {
   "codemirror_mode": {
    "name": "ipython",
    "version": 3
   },
   "file_extension": ".py",
   "mimetype": "text/x-python",
   "name": "python",
   "nbconvert_exporter": "python",
   "pygments_lexer": "ipython3",
   "version": "3.6.9"
  },
  "varInspector": {
   "cols": {
    "lenName": 16,
    "lenType": 16,
    "lenVar": 40
   },
   "kernels_config": {
    "python": {
     "delete_cmd_postfix": "",
     "delete_cmd_prefix": "del ",
     "library": "var_list.py",
     "varRefreshCmd": "print(var_dic_list())"
    },
    "r": {
     "delete_cmd_postfix": ") ",
     "delete_cmd_prefix": "rm(",
     "library": "var_list.r",
     "varRefreshCmd": "cat(var_dic_list()) "
    }
   },
   "types_to_exclude": [
    "module",
    "function",
    "builtin_function_or_method",
    "instance",
    "_Feature"
   ],
   "window_display": false
  }
 },
 "nbformat": 4,
 "nbformat_minor": 2
}

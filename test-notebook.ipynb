{
 "cells": [
  {
   "cell_type": "code",
   "execution_count": 6,
   "metadata": {},
   "outputs": [
    {
     "data": {
      "text/plain": [
       "'1.16.3'"
      ]
     },
     "execution_count": 6,
     "metadata": {},
     "output_type": "execute_result"
    }
   ],
   "source": [
    "import numpy\n",
    "import requests\n",
    "numpy.__version__"
   ]
  },
  {
   "cell_type": "code",
   "execution_count": 14,
   "metadata": {},
   "outputs": [
    {
     "name": "stdout",
     "output_type": "stream",
     "text": [
      "[[0.15478988 0.18229206 0.89940498 0.62864771 0.98599406]\n",
      " [0.83058246 0.36972328 0.46436131 0.77749692 0.43352279]\n",
      " [0.38207248 0.08570937 0.76100376 0.59243752 0.58095373]\n",
      " [0.59408248 0.64219391 0.24350545 0.79432305 0.01490471]\n",
      " [0.0778908  0.96261236 0.81743506 0.06034306 0.13064919]]\n",
      "Success: Record inserted\n"
     ]
    }
   ],
   "source": [
    "import io\n",
    "import json\n",
    "import requests\n",
    "import numpy as np\n",
    "import matplotlib.pyplot as plt\n",
    "\n",
    "session = 1\n",
    "name = \"Jean Dupont\"\n",
    "\n",
    "def get_binary_image(plt_obj):\n",
    "    with io.BytesIO() as buffer:\n",
    "        plt_obj.savefig(buffer, format='jpeg', quality=20, dpi=70)\n",
    "        return buffer.getvalue()\n",
    "\n",
    "def send(data, q_nb):\n",
    "    url = \"http://localhost:50000/add-record\"\n",
    "    file = {}\n",
    "    form = {'session_id': session, 'sender_name': name, 'question_nb': q_nb}\n",
    "\n",
    "    datatype = type(data).__name__\n",
    "    if datatype == \"ndarray\":\n",
    "        form['type'] = datatype\n",
    "        form['data'] = json.dumps(data.tolist())\n",
    "    elif datatype == \"module\" and data.__name__ == \"matplotlib.pyplot\":\n",
    "        form['type'] = 'image'\n",
    "        file['file'] = get_binary_image(data)\n",
    "    else:\n",
    "        form['type'] = datatype\n",
    "        form['data'] = data\n",
    "        \n",
    "    response = requests.post(url, data=form, files=file)\n",
    "    print(response.content.decode())\n",
    "    return response\n",
    "\n",
    "A = np.random.rand(25).reshape(5,5)\n",
    "# A = np.random.randint(0, 10, size=25).reshape(5,5)\n",
    "# A = \"Test - <script>prompt('Hello !')</script>\\nThis is a super long sentence ... - \\nThis is a super long sentence ... - \\nThis is a super long sentence ... - \\nThis is a super long sentence ... - \"\n",
    "print(A)\n",
    "r = send(A, 1)"
   ]
  },
  {
   "cell_type": "code",
   "execution_count": 20,
   "metadata": {},
   "outputs": [
    {
     "name": "stdout",
     "output_type": "stream",
     "text": [
      "b'Success: Record inserted'\n",
      "b'Success: Record inserted'\n",
      "b'Success: Record inserted'\n",
      "b'Success: Record inserted'\n",
      "b'Success: Record inserted'\n",
      "b'Success: Record inserted'\n",
      "b'Success: Record inserted'\n",
      "b'Success: Record inserted'\n",
      "b'Success: Record inserted'\n",
      "b'Success: Record inserted'\n",
      "b'Success: Record inserted'\n",
      "b'Success: Record inserted'\n",
      "b'Success: Record inserted'\n",
      "b'Success: Record inserted'\n",
      "b'Success: Record inserted'\n",
      "b'Success: Record inserted'\n",
      "b'Success: Record inserted'\n",
      "b'Success: Record inserted'\n",
      "b'Success: Record inserted'\n",
      "b'Success: Record inserted'\n",
      "b'Success: Record inserted'\n",
      "b'Success: Record inserted'\n"
     ]
    }
   ],
   "source": [
    "for i in range(10):\n",
    "    for j in range([5,3,4,1, 1, 1, 3, 2, 1, 1, 1, 2, 1, 3, 1][i]):\n",
    "        session = 1\n",
    "        A = np.random.randint(0, 10, size=9).reshape(3,3)\n",
    "#         A = \"Inser \" + str(i) + ' - ' + str(j)\n",
    "        name = \"Max dupont %d\" % j\n",
    "        send(A, i)"
   ]
  },
  {
   "cell_type": "markdown",
   "metadata": {},
   "source": [
    "### Auto fetch sending code"
   ]
  },
  {
   "cell_type": "code",
   "execution_count": 23,
   "metadata": {},
   "outputs": [
    {
     "name": "stdin",
     "output_type": "stream",
     "text": [
      "Name: evann\n",
      "Session: 1\n"
     ]
    }
   ],
   "source": [
    "import requests\n",
    "\n",
    "exec(requests.get(\"http://localhost:50000/get-send-code\").content)\n",
    "\n",
    "name = input(\"Name:\")\n",
    "session = input('Session:')"
   ]
  },
  {
   "cell_type": "code",
   "execution_count": 24,
   "metadata": {},
   "outputs": [
    {
     "name": "stdout",
     "output_type": "stream",
     "text": [
      "Success: Record inserted\n",
      "Success: Record inserted\n",
      "Error: DataType is not supported\n"
     ]
    },
    {
     "data": {
      "text/plain": [
       "<Response [400]>"
      ]
     },
     "execution_count": 24,
     "metadata": {},
     "output_type": "execute_result"
    }
   ],
   "source": [
    "A = np.random.randint(0, 10, size=9).reshape(3,3)\n",
    "send(A, 1)\n",
    "A = \"Une string\"\n",
    "send(A, 2)\n",
    "A = 42\n",
    "send(A, 3)"
   ]
  },
  {
   "cell_type": "code",
   "execution_count": 3,
   "metadata": {},
   "outputs": [
    {
     "name": "stdout",
     "output_type": "stream",
     "text": [
      "Success: Record inserted\n"
     ]
    }
   ],
   "source": [
    "import matplotlib.pyplot as plt\n",
    "plt.plot(np.arange(10), np.random.rand(10))\n",
    "plt.title(\"test\")\n",
    "send(plt, 4);"
   ]
  },
  {
   "cell_type": "markdown",
   "metadata": {},
   "source": [
    "### Compress data before send"
   ]
  },
  {
   "cell_type": "code",
   "execution_count": 4,
   "metadata": {},
   "outputs": [],
   "source": [
    "import numpy as np\n",
    "import zlib, io\n",
    "\n",
    "def send(data, q_nb):\n",
    "    url = \"http://courdier.pythonanywhere.com/add-record\"\n",
    "    datatype = type(data).__name__\n",
    "    if datatype == \"ndarray\":\n",
    "        data = compress(data)\n",
    "    elif datatype == \"str\":\n",
    "        data = data.encode()\n",
    "    headers = {'session_id': session, 'sender_name': name, 'question_nb': q_nb, 'type': datatype, 'Content-Type': 'application/octet-stream'}\n",
    "    response = requests.post(url, data=data, headers=headers)\n",
    "    print(response.content)\n",
    "\n",
    "def compress(array):\n",
    "    bytestream = io.BytesIO()\n",
    "    np.save(bytestream, nparr)\n",
    "    return zlib.compress(bytestream.getvalue())\n",
    "\n",
    "\n",
    "def uncompress(bytestring):\n",
    "    return np.load(io.BytesIO(zlib.decompress(bytestring)))"
   ]
  },
  {
   "cell_type": "markdown",
   "metadata": {},
   "source": [
    "### Send image"
   ]
  },
  {
   "cell_type": "code",
   "execution_count": 94,
   "metadata": {},
   "outputs": [],
   "source": [
    "import io\n",
    "import json\n",
    "import requests\n",
    "import numpy as np\n",
    "import matplotlib.pyplot as plt\n",
    "\n",
    "session = 9\n",
    "name = \"Jean Dupont\"\n",
    "\n",
    "def get_binary_image(plt_obj):\n",
    "    with io.BytesIO() as buffer:\n",
    "        plt_obj.savefig(buffer, format='jpeg', quality=20, dpi=70)\n",
    "        return buffer.getvalue()\n",
    "\n",
    "def send(data, q_nb):\n",
    "    url = \"http://courdier.pythonanywhere.com/add-record\"\n",
    "    file = {}\n",
    "    form = {'session_id': session, 'sender_name': name, 'question_nb': q_nb}\n",
    "\n",
    "    datatype = type(data).__name__\n",
    "    if datatype == \"ndarray\":\n",
    "        form['type'] = datatype\n",
    "        form['data'] = json.dumps(data.tolist())\n",
    "    elif datatype == \"module\" and data.__name__ == \"matplotlib.pyplot\":\n",
    "        form['type'] = 'image'\n",
    "        file['file'] = get_binary_image(data)\n",
    "    else:\n",
    "        form['type'] = datatype\n",
    "        form['data'] = data\n",
    "        \n",
    "    response = requests.post(url, data=form, files=file)\n",
    "    print(response.content.decode())\n",
    "    return response"
   ]
  },
  {
   "cell_type": "code",
   "execution_count": 95,
   "metadata": {},
   "outputs": [
    {
     "name": "stdout",
     "output_type": "stream",
     "text": [
      "Success: Record updated\n"
     ]
    },
    {
     "data": {
      "image/png": "[encoded data removed]",
      "text/plain": [
       "<Figure size 432x288 with 1 Axes>"
      ]
     },
     "metadata": {
      "needs_background": "light"
     },
     "output_type": "display_data"
    }
   ],
   "source": [
    "plt.plot(np.arange(10), np.random.rand(10))\n",
    "plt.title(\"test\")\n",
    "a = send(plt, 2)"
   ]
  }
 ],
 "metadata": {
  "kernelspec": {
   "display_name": "Python 3",
   "language": "python",
   "name": "python3"
  },
  "language_info": {
   "codemirror_mode": {
    "name": "ipython",
    "version": 3
   },
   "file_extension": ".py",
   "mimetype": "text/x-python",
   "name": "python",
   "nbconvert_exporter": "python",
   "pygments_lexer": "ipython3",
   "version": "3.6.8"
  },
  "varInspector": {
   "cols": {
    "lenName": 16,
    "lenType": 16,
    "lenVar": 40
   },
   "kernels_config": {
    "python": {
     "delete_cmd_postfix": "",
     "delete_cmd_prefix": "del ",
     "library": "var_list.py",
     "varRefreshCmd": "print(var_dic_list())"
    },
    "r": {
     "delete_cmd_postfix": ") ",
     "delete_cmd_prefix": "rm(",
     "library": "var_list.r",
     "varRefreshCmd": "cat(var_dic_list()) "
    }
   },
   "types_to_exclude": [
    "module",
    "function",
    "builtin_function_or_method",
    "instance",
    "_Feature"
   ],
   "window_display": false
  }
 },
 "nbformat": 4,
 "nbformat_minor": 2
}
